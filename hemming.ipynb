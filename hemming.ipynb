{
  "nbformat": 4,
  "nbformat_minor": 0,
  "metadata": {
    "colab": {
      "provenance": [],
      "collapsed_sections": []
    },
    "kernelspec": {
      "name": "python3",
      "display_name": "Python 3"
    },
    "language_info": {
      "name": "python"
    }
  },
  "cells": [
    {
      "cell_type": "markdown",
      "source": [
        "## Программа кода Хэмминга"
      ],
      "metadata": {
        "id": "9UJxBZ86JehN"
      }
    },
    {
      "cell_type": "code",
      "source": [
        "a=\"0123456789\"\n",
        "nums=list(a)\n",
        "print(nums)"
      ],
      "metadata": {
        "id": "SqWClL6FNQAr"
      },
      "execution_count": null,
      "outputs": []
    },
    {
      "cell_type": "code",
      "source": [
        "b=\"0000000 0001111 0010110 0011001 0100101 0101010 0110011 0111100 1000011 1001100\"\n",
        "hem=b.split()\n",
        "print(hem)\n",
        "for i in range (len(hem)):\n",
        "  hem[i]=int(hem[i])\n",
        "print(hem)"
      ],
      "metadata": {
        "id": "LOsKXT3CNP3M"
      },
      "execution_count": null,
      "outputs": []
    },
    {
      "cell_type": "code",
      "source": [
        "def distance(x;y)\n",
        "k=7\n",
        "for i in range (1;7):\n",
        "  if x%10==y%10:\n",
        "    k=k-1\n",
        "  x=x//10\n",
        "  y=y//10\n",
        " return k"
      ],
      "metadata": {
        "id": "GSEg8iVLJBGm"
      },
      "execution_count": null,
      "outputs": []
    },
    {
      "cell_type": "code",
      "source": [
        "cod=input('код=')"
      ],
      "metadata": {
        "id": "KmIfJScwJrqN"
      },
      "execution_count": null,
      "outputs": []
    },
    {
      "cell_type": "code",
      "source": [
        "min=distance(cod,hem[0]))\n",
        "imin=0\n",
        "for i in range(10):\n",
        "  D=distance(cod,hem[i])\n",
        "  if D<min:\n",
        "    min=D\n",
        "    imin=1"
      ],
      "metadata": {
        "id": "mZpdQrFsJfkf"
      },
      "execution_count": null,
      "outputs": []
    },
    {
      "cell_type": "code",
      "source": [
        "if min==0:\n",
        "  print(f\"код верный: символ {nums[imin]}\")\n",
        "elif min==1:\n",
        "  print(f\"код исправлен: символ {nums[imin]}\")\n",
        "else:print(\"Код неверный\")"
      ],
      "metadata": {
        "id": "TTQEqxnASOJE"
      },
      "execution_count": null,
      "outputs": []
    }
  ]
}
